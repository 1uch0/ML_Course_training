{
  "nbformat": 4,
  "nbformat_minor": 0,
  "metadata": {
    "colab": {
      "provenance": [],
      "authorship_tag": "ABX9TyN9hvurwqUnlDh8i3dIYnpX",
      "include_colab_link": true
    },
    "kernelspec": {
      "name": "python3",
      "display_name": "Python 3"
    },
    "language_info": {
      "name": "python"
    }
  },
  "cells": [
    {
      "cell_type": "markdown",
      "metadata": {
        "id": "view-in-github",
        "colab_type": "text"
      },
      "source": [
        "<a href=\"https://colab.research.google.com/github/1uch0/ML_Course_training/blob/main/Recomender_system_using_RL.ipynb\" target=\"_parent\"><img src=\"https://colab.research.google.com/assets/colab-badge.svg\" alt=\"Open In Colab\"/></a>"
      ]
    },
    {
      "cell_type": "code",
      "execution_count": 3,
      "metadata": {
        "id": "K7z_dM6k268B"
      },
      "outputs": [],
      "source": [
        "#!pip install gradio"
      ]
    },
    {
      "cell_type": "code",
      "source": [
        "import gradio as gr\n",
        "import random\n",
        "\n",
        "# Step 1: Movie genres\n",
        "genres = [\"Action\", \"Comedy\", \"Drama\"]\n",
        "\n",
        "# Step 2: Simulated movie titles (you can customize or expand this)\n",
        "movies = {\n",
        "    \"Action\": [\"Fast & Furious\", \"Mad Max\", \"John Wick\"],\n",
        "    \"Comedy\": [\"The Hangover\", \"Superbad\", \"Step Brothers\"],\n",
        "    \"Drama\": [\"The Shawshank Redemption\", \"Forrest Gump\", \"The Godfather\"]\n",
        "}\n",
        "\n",
        "# Step 3: Track user feedback\n",
        "likes = [0, 0, 0]\n",
        "dislikes = [0, 0, 0]\n",
        "\n",
        "# Step 4: Recommend a movie using Thompson Sampling\n",
        "def recommend_movie():\n",
        "    best_genre = 0\n",
        "    highest_value = 0\n",
        "\n",
        "    for i in range(3):\n",
        "        sample = random.betavariate(likes[i] + 1, dislikes[i] + 1)\n",
        "        if sample > highest_value:\n",
        "            highest_value = sample\n",
        "            best_genre = i\n",
        "\n",
        "    genre = genres[best_genre]\n",
        "    title = random.choice(movies[genre])\n",
        "    return f\"🎬 Recommended Movie: **{title}** ({genre})\", best_genre\n",
        "\n",
        "# Step 5: Update feedback and return stats\n",
        "def feedback(liked, genre_index):\n",
        "    if liked:\n",
        "        likes[genre_index] += 1\n",
        "    else:\n",
        "        dislikes[genre_index] += 1\n",
        "\n",
        "    # Show learning progress\n",
        "    stats = \"📊 Learning Progress:\\n\"\n",
        "    for i in range(3):\n",
        "        total = likes[i] + dislikes[i]\n",
        "        rate = (likes[i] / total) if total > 0 else 0\n",
        "        stats += f\"- {genres[i]}: {likes[i]} likes out of {total} (👍 rate: {rate:.2f})\\n\"\n",
        "\n",
        "    return stats\n",
        "\n",
        "# Step 6: Gradio interface\n",
        "with gr.Blocks() as app:\n",
        "    gr.Markdown(\"## 🎥 Movie Recommender (Thompson Sampling)\")\n",
        "    gr.Markdown(\"Click 'Recommend Movie' to start. Give feedback to improve suggestions.\")\n",
        "\n",
        "    genre_index = gr.State()\n",
        "\n",
        "    movie_output = gr.Markdown()\n",
        "    stats_output = gr.Textbox(label=\"System Learning Stats\", lines=5)\n",
        "\n",
        "    with gr.Row():\n",
        "        recommend_button = gr.Button(\"🎲 Recommend Movie\")\n",
        "\n",
        "    with gr.Row():\n",
        "        like_btn = gr.Button(\"👍 I Liked It\")\n",
        "        dislike_btn = gr.Button(\"👎 I Didn't Like It\")\n",
        "\n",
        "    # Actions\n",
        "    recommend_button.click(fn=recommend_movie, outputs=[movie_output, genre_index])\n",
        "    like_btn.click(fn=lambda idx: feedback(True, idx), inputs=genre_index, outputs=stats_output)\n",
        "    dislike_btn.click(fn=lambda idx: feedback(False, idx), inputs=genre_index, outputs=stats_output)\n",
        "\n",
        "# Step 7: Launch\n",
        "app.launch()\n"
      ],
      "metadata": {
        "colab": {
          "base_uri": "https://localhost:8080/",
          "height": 626
        },
        "id": "-xTQfHRq28jE",
        "outputId": "6368a0dd-688b-4e7d-e968-678e39e28440"
      },
      "execution_count": 6,
      "outputs": [
        {
          "output_type": "stream",
          "name": "stdout",
          "text": [
            "It looks like you are running Gradio on a hosted a Jupyter notebook. For the Gradio app to work, sharing must be enabled. Automatically setting `share=True` (you can turn this off by setting `share=False` in `launch()` explicitly).\n",
            "\n",
            "Colab notebook detected. To show errors in colab notebook, set debug=True in launch()\n",
            "* Running on public URL: https://ec2e412f32e9c972f6.gradio.live\n",
            "\n",
            "This share link expires in 1 week. For free permanent hosting and GPU upgrades, run `gradio deploy` from the terminal in the working directory to deploy to Hugging Face Spaces (https://huggingface.co/spaces)\n"
          ]
        },
        {
          "output_type": "display_data",
          "data": {
            "text/plain": [
              "<IPython.core.display.HTML object>"
            ],
            "text/html": [
              "<div><iframe src=\"https://ec2e412f32e9c972f6.gradio.live\" width=\"100%\" height=\"500\" allow=\"autoplay; camera; microphone; clipboard-read; clipboard-write;\" frameborder=\"0\" allowfullscreen></iframe></div>"
            ]
          },
          "metadata": {}
        },
        {
          "output_type": "execute_result",
          "data": {
            "text/plain": []
          },
          "metadata": {},
          "execution_count": 6
        }
      ]
    },
    {
      "cell_type": "code",
      "source": [],
      "metadata": {
        "id": "-8GF0JDF3WC0"
      },
      "execution_count": null,
      "outputs": []
    }
  ]
}